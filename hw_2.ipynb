{
 "cells": [
  {
   "cell_type": "code",
   "execution_count": 1,
   "metadata": {
    "id": "KO8HkK_6h0C-"
   },
   "outputs": [],
   "source": [
    "import torch; torch.manual_seed(42)\n",
    "from PIL import Image\n",
    "import os\n",
    "from torch.utils.data import DataLoader, Dataset\n",
    "import torchvision.transforms as transforms\n",
    "import tqdm\n",
    "import torch.nn as nn\n",
    "import torch.nn.functional as F\n",
    "import numpy as np\n",
    "import matplotlib.pyplot as plt\n",
    "from torchvision.io import read_image\n",
    "from torchvision import datasets\n",
    "from torchsummary import summary\n",
    "torch.cuda.manual_seed_all(42)"
   ]
  },
  {
   "cell_type": "code",
   "execution_count": 19,
   "metadata": {},
   "outputs": [],
   "source": [
    "batch_size = 128"
   ]
  },
  {
   "cell_type": "code",
   "execution_count": 20,
   "metadata": {
    "id": "NWEncFdSh50U"
   },
   "outputs": [],
   "source": [
    "class CustomImageDataset(Dataset):\n",
    "    def __init__(\n",
    "        self, annotations_file, img_dir, transform=None, target_transform=None\n",
    "    ):\n",
    "        with open(annotations_file) as f:\n",
    "            ann = f.readlines()\n",
    "\n",
    "        self.img_labels = [s[:-1].split() for s in ann]\n",
    "        self.img_dir = img_dir\n",
    "        self.transform = transform\n",
    "        self.target_transform = target_transform\n",
    "\n",
    "    def __len__(self):\n",
    "        return len(self.img_labels)\n",
    "\n",
    "    def __getitem__(self, idx):\n",
    "        img_path = os.path.join(self.img_dir, self.img_labels[idx][0])\n",
    "        image = read_image(img_path)\n",
    "        label = self.img_labels[idx][1]\n",
    "        if self.transform:\n",
    "            image = self.transform(image)\n",
    "        if self.target_transform:\n",
    "            label = self.target_transform(label)\n",
    "        return image, label"
   ]
  },
  {
   "cell_type": "code",
   "execution_count": 21,
   "metadata": {},
   "outputs": [],
   "source": [
    "transform = transforms.Compose(\n",
    "    [\n",
    "        transforms.ToPILImage(),\n",
    "        transforms.ToTensor(),\n",
    "        transforms.Normalize(mean=(0), std=(1)),\n",
    "        transforms.RandomAdjustSharpness(5, p=1),\n",
    "        transforms.Resize((28, 48)),\n",
    "        transforms.CenterCrop((28, 28)),\n",
    "        transforms.GaussianBlur(3),\n",
    "    ]\n",
    ")"
   ]
  },
  {
   "cell_type": "code",
   "execution_count": 22,
   "metadata": {},
   "outputs": [],
   "source": [
    "train_data_path = \"train\"\n",
    "train_dataset = CustomImageDataset(\n",
    "    os.path.join(train_data_path, \"train_annotation.txt\"),\n",
    "    os.path.join(train_data_path, \"imgs\"),\n",
    "    transform=transform\n",
    ")\n",
    "train_dataloader = DataLoader(\n",
    "    train_dataset, batch_size=batch_size, shuffle=True\n",
    ")"
   ]
  },
  {
   "cell_type": "code",
   "execution_count": 23,
   "metadata": {},
   "outputs": [],
   "source": [
    "proliv_data_path = \"proliv\"\n",
    "proliv_dataset = CustomImageDataset(\n",
    "    os.path.join(proliv_data_path, \"proliv_annotation.txt\"),\n",
    "    os.path.join(proliv_data_path, \"imgs\"),\n",
    "    transform=transform\n",
    ")\n",
    "proliv_dataloader = DataLoader(\n",
    "    proliv_dataset, batch_size=batch_size, shuffle=True\n",
    ")"
   ]
  },
  {
   "cell_type": "code",
   "execution_count": 24,
   "metadata": {},
   "outputs": [],
   "source": [
    "test_data_path = \"test\"\n",
    "test_dataset = CustomImageDataset(\n",
    "    os.path.join(test_data_path, \"test_annotation.txt\"),\n",
    "    os.path.join(test_data_path, \"imgs\"),\n",
    "    transform=transform,\n",
    ")\n",
    "test_dataloader = DataLoader(\n",
    "    test_dataset, batch_size=1, shuffle=True\n",
    ")"
   ]
  },
  {
   "cell_type": "code",
   "execution_count": 25,
   "metadata": {},
   "outputs": [
    {
     "name": "stdout",
     "output_type": "stream",
     "text": [
      "Batch 1:\n",
      "  - Images shape: torch.Size([1, 3, 28, 28])\n",
      "  - Labels: ('0',)\n"
     ]
    },
    {
     "data": {
      "image/png": "[encoded data removed]",
      "text/plain": [
       "<Figure size 640x480 with 1 Axes>"
      ]
     },
     "metadata": {},
     "output_type": "display_data"
    },
    {
     "name": "stdout",
     "output_type": "stream",
     "text": [
      "CPU times: total: 719 ms\n",
      "Wall time: 125 ms\n"
     ]
    }
   ],
   "source": [
    "%%time\n",
    "for i, (images, labels) in enumerate(test_dataloader):\n",
    "    print(f\"Batch {i + 1}:\")\n",
    "    print(f\"  - Images shape: {images.shape}\")\n",
    "    print(f\"  - Labels: {labels}\")\n",
    "\n",
    "    for j in range(images.shape[0]):\n",
    "        image = images[j].permute(1, 2, 0).numpy()\n",
    "        plt.imshow(image)\n",
    "        plt.title(f\"Label: {labels[j]}\")\n",
    "        plt.show()\n",
    "\n",
    "    break"
   ]
  },
  {
   "cell_type": "code",
   "execution_count": 26,
   "metadata": {},
   "outputs": [
    {
     "name": "stdout",
     "output_type": "stream",
     "text": [
      "Using device: cuda\n"
     ]
    }
   ],
   "source": [
    "device = 'cuda' if torch.cuda.is_available() else 'cpu'\n",
    "print('Using device:', device)"
   ]
  },
  {
   "cell_type": "markdown",
   "metadata": {
    "id": "EVJTCScAujIV"
   },
   "source": [
    "# 1. Автоэнкодер из лекции (бейзлайн решение)\n"
   ]
  },
  {
   "cell_type": "code",
   "execution_count": 39,
   "metadata": {
    "id": "EcQjuDzOh_GO"
   },
   "outputs": [],
   "source": [
    "class Encoder(nn.Module):\n",
    "    def __init__(self, latent_dims, input_c, input_dim):\n",
    "        super(Encoder, self).__init__()\n",
    "        self.linear1 = nn.Linear(input_c * input_dim * input_dim, 512)\n",
    "        self.linear2 = nn.Linear(512, 128)\n",
    "        self.linear3 = nn.Linear(128, latent_dims)\n",
    "\n",
    "    def forward(self, x):\n",
    "        x = torch.flatten(x, start_dim=1)\n",
    "        x = F.relu(self.linear1(x))\n",
    "        x = F.relu(self.linear2(x))\n",
    "        return self.linear3(x)\n",
    "\n",
    "\n",
    "class Decoder(nn.Module):\n",
    "    def __init__(self, latent_dims, input_c, input_dim):\n",
    "        self.input_c = input_c\n",
    "        self.input_dim = input_dim\n",
    "        super(Decoder, self).__init__()\n",
    "        self.linear1 = nn.Linear(latent_dims, 128)\n",
    "        self.linear2 = nn.Linear(128, 512)\n",
    "        self.linear3 = nn.Linear(512, input_c * input_dim * input_dim)\n",
    "\n",
    "    def forward(self, z):\n",
    "        z = F.relu(self.linear1(z))\n",
    "        z = F.relu(self.linear2(z))\n",
    "        z = torch.sigmoid(self.linear3(z))\n",
    "        return z.reshape((-1, self.input_c, self.input_dim, self.input_dim))\n",
    "\n",
    "\n",
    "class Autoencoder(nn.Module):\n",
    "    def __init__(self, latent_dims=16, input_c=1, input_dim=50):\n",
    "        super(Autoencoder, self).__init__()\n",
    "        self.encoder = Encoder(latent_dims, input_c, input_dim)\n",
    "        self.decoder = Decoder(latent_dims, input_c, input_dim)\n",
    "\n",
    "    def forward(self, x):\n",
    "        z = self.encoder(x)\n",
    "        return self.decoder(z)"
   ]
  },
  {
   "cell_type": "code",
   "execution_count": 40,
   "metadata": {
    "colab": {
     "base_uri": "https://localhost:8080/"
    },
    "id": "PeiA65_fsvm6",
    "outputId": "5acd4c2e-2a7d-4ff5-b814-158cdda40c71"
   },
   "outputs": [
    {
     "data": {
      "text/plain": [
       "12"
      ]
     },
     "execution_count": 40,
     "metadata": {},
     "output_type": "execute_result"
    }
   ],
   "source": [
    "num_workers = os.cpu_count()\n",
    "num_workers"
   ]
  },
  {
   "cell_type": "code",
   "execution_count": 41,
   "metadata": {
    "colab": {
     "base_uri": "https://localhost:8080/",
     "height": 507
    },
    "id": "-aaUyOG0ixh7",
    "outputId": "72cf1151-6ea9-4661-a80e-13a86fa9ae5a"
   },
   "outputs": [
    {
     "name": "stdout",
     "output_type": "stream",
     "text": [
      "Batch 1:\n",
      "  - Images shape: torch.Size([1, 3, 28, 28])\n",
      "  - Labels: ('0',)\n"
     ]
    },
    {
     "data": {
      "image/png": "[encoded data removed]",
      "text/plain": [
       "<Figure size 640x480 with 1 Axes>"
      ]
     },
     "metadata": {},
     "output_type": "display_data"
    },
    {
     "name": "stdout",
     "output_type": "stream",
     "text": [
      "CPU times: total: 594 ms\n",
      "Wall time: 127 ms\n"
     ]
    }
   ],
   "source": [
    "%%time\n",
    "for i, (images, labels) in enumerate(test_dataloader):\n",
    "    print(f\"Batch {i + 1}:\")\n",
    "    print(f\"  - Images shape: {images.shape}\")\n",
    "    print(f\"  - Labels: {labels}\")\n",
    "\n",
    "    for j in range(images.shape[0]):\n",
    "        image = images[j].permute(1, 2, 0).numpy()\n",
    "        plt.imshow(image)\n",
    "        plt.title(f\"Label: {labels[j]}\")\n",
    "        plt.show()\n",
    "\n",
    "    break"
   ]
  },
  {
   "cell_type": "code",
   "execution_count": 42,
   "metadata": {
    "colab": {
     "base_uri": "https://localhost:8080/"
    },
    "id": "cEPAweZJkxmB",
    "outputId": "7f74be6d-8bf4-4240-f93b-2cdbc68e2c4e"
   },
   "outputs": [
    {
     "name": "stderr",
     "output_type": "stream",
     "text": [
      " 20%|██        | 1/5 [00:11<00:44, 11.15s/it]"
     ]
    },
    {
     "name": "stdout",
     "output_type": "stream",
     "text": [
      "epoch 1: train loss 5.411561965942383, validation loss 16.2250919342041\n"
     ]
    },
    {
     "name": "stderr",
     "output_type": "stream",
     "text": [
      " 40%|████      | 2/5 [00:23<00:34, 11.61s/it]"
     ]
    },
    {
     "name": "stdout",
     "output_type": "stream",
     "text": [
      "epoch 2: train loss 4.335704326629639, validation loss 14.246164321899414\n"
     ]
    },
    {
     "name": "stderr",
     "output_type": "stream",
     "text": [
      " 60%|██████    | 3/5 [00:34<00:23, 11.59s/it]"
     ]
    },
    {
     "name": "stdout",
     "output_type": "stream",
     "text": [
      "epoch 3: train loss 3.628589630126953, validation loss 14.451093673706055\n"
     ]
    },
    {
     "name": "stderr",
     "output_type": "stream",
     "text": [
      " 80%|████████  | 4/5 [00:46<00:11, 11.73s/it]"
     ]
    },
    {
     "name": "stdout",
     "output_type": "stream",
     "text": [
      "epoch 4: train loss 3.3963940143585205, validation loss 14.12849235534668\n"
     ]
    },
    {
     "name": "stderr",
     "output_type": "stream",
     "text": [
      "100%|██████████| 5/5 [00:57<00:00, 11.54s/it]"
     ]
    },
    {
     "name": "stdout",
     "output_type": "stream",
     "text": [
      "epoch 5: train loss 3.1133880615234375, validation loss 14.537548065185547\n",
      "CPU times: total: 5min 41s\n",
      "Wall time: 57.7 s\n"
     ]
    },
    {
     "name": "stderr",
     "output_type": "stream",
     "text": [
      "\n"
     ]
    }
   ],
   "source": [
    "%%time\n",
    "model = Autoencoder(input_c=3, input_dim=28, latent_dims=16).to(device)\n",
    "opt = torch.optim.Adam(model.parameters())\n",
    "\n",
    "for epoch in tqdm.tqdm(range(5)):\n",
    "    model.train()\n",
    "    train_count = 0\n",
    "    running_loss = 0\n",
    "    for x, y in train_dataloader:\n",
    "        train_count += 1\n",
    "        x = x.to(device)  # GPU\n",
    "        opt.zero_grad()\n",
    "        x_hat = model(x)\n",
    "        loss = ((x - x_hat) ** 2).sum()\n",
    "        running_loss += loss / batch_size\n",
    "        loss.backward()\n",
    "        opt.step()\n",
    "\n",
    "    model.eval()\n",
    "    val_count = 0\n",
    "    val_loss = 0\n",
    "    with torch.no_grad():\n",
    "        for x, y in proliv_dataloader:\n",
    "            val_count += 1\n",
    "            x = x.to(device)\n",
    "            reconstruction = model(x)\n",
    "            loss = ((x - reconstruction) ** 2).sum()\n",
    "            val_loss += loss / batch_size\n",
    "    print(\n",
    "        f\"epoch {epoch+1}: train loss {running_loss / train_count}, validation loss {val_loss / val_count}\"\n",
    "    )"
   ]
  },
  {
   "cell_type": "code",
   "execution_count": 49,
   "metadata": {},
   "outputs": [
    {
     "name": "stdout",
     "output_type": "stream",
     "text": [
      "=================================================================\n",
      "Layer (type:depth-idx)                   Param #\n",
      "=================================================================\n",
      "├─Encoder: 1-1                           --\n",
      "|    └─Linear: 2-1                       1,204,736\n",
      "|    └─Linear: 2-2                       65,664\n",
      "|    └─Linear: 2-3                       2,064\n",
      "├─Decoder: 1-2                           --\n",
      "|    └─Linear: 2-4                       2,176\n",
      "|    └─Linear: 2-5                       66,048\n",
      "|    └─Linear: 2-6                       1,206,576\n",
      "=================================================================\n",
      "Total params: 2,547,264\n",
      "Trainable params: 2,547,264\n",
      "Non-trainable params: 0\n",
      "=================================================================\n"
     ]
    },
    {
     "data": {
      "text/plain": [
       "=================================================================\n",
       "Layer (type:depth-idx)                   Param #\n",
       "=================================================================\n",
       "├─Encoder: 1-1                           --\n",
       "|    └─Linear: 2-1                       1,204,736\n",
       "|    └─Linear: 2-2                       65,664\n",
       "|    └─Linear: 2-3                       2,064\n",
       "├─Decoder: 1-2                           --\n",
       "|    └─Linear: 2-4                       2,176\n",
       "|    └─Linear: 2-5                       66,048\n",
       "|    └─Linear: 2-6                       1,206,576\n",
       "=================================================================\n",
       "Total params: 2,547,264\n",
       "Trainable params: 2,547,264\n",
       "Non-trainable params: 0\n",
       "================================================================="
      ]
     },
     "execution_count": 49,
     "metadata": {},
     "output_type": "execute_result"
    }
   ],
   "source": [
    "summary(model, input_size=(3, 28, 28))"
   ]
  },
  {
   "cell_type": "code",
   "execution_count": 44,
   "metadata": {
    "colab": {
     "base_uri": "https://localhost:8080/"
    },
    "id": "jE1rBFd9k5Uk",
    "outputId": "d2b9de45-5649-4001-c08d-60946f5ed59b"
   },
   "outputs": [
    {
     "name": "stdout",
     "output_type": "stream",
     "text": [
      "choosen threshold: 10.486000000000002\n"
     ]
    }
   ],
   "source": [
    "model.eval()\n",
    "proliv_dataloader = DataLoader(proliv_dataset, batch_size=1, shuffle=True)\n",
    "with torch.no_grad():\n",
    "    losses = []\n",
    "    true = []\n",
    "\n",
    "    for x, y in proliv_dataloader:\n",
    "        true.append(int(y[0]))\n",
    "        x = x.to(device)  # GPU\n",
    "        reconstruction = model(x)\n",
    "        loss = ((x - reconstruction) ** 2).sum()\n",
    "        losses.append(loss.item())\n",
    "\n",
    "thresholds, tp_rate = [], []\n",
    "best_tresholds = []\n",
    "for thresh in range(1, 6000, 1):\n",
    "    tp, fp, tn, fn = 0, 0, 0, 0\n",
    "    for loss, y in zip(losses, true):\n",
    "        if loss >= (thresh / 100):\n",
    "            y_pred = 1\n",
    "        else:\n",
    "            y_pred = 0\n",
    "\n",
    "        if y == 1 and y_pred == 1:\n",
    "            tp += 1\n",
    "        elif y == 1 and y_pred == 0:\n",
    "            fn += 1\n",
    "        elif y == 0 and y_pred == 1:\n",
    "            fp += 1\n",
    "        elif y == 0 and y_pred == 0:\n",
    "            tn += 1\n",
    "\n",
    "    thresholds.append(thresh / 100)\n",
    "    tp_rate.append(tp / (tp + fn))\n",
    "\n",
    "    if tp / (tp + fn) == 1:\n",
    "        best_tresholds.append(thresh / 100)\n",
    "\n",
    "if len(best_tresholds) > 0:\n",
    "    print(f\"choosen threshold: {np.quantile(best_tresholds, 0.9)}\")\n",
    "else:\n",
    "    print(\"no possible thresholds\")"
   ]
  },
  {
   "cell_type": "code",
   "execution_count": 45,
   "metadata": {
    "colab": {
     "base_uri": "https://localhost:8080/"
    },
    "id": "2EYaQWl5lBGp",
    "outputId": "d385e4f2-b843-4fcb-a543-b0385e09a4a3"
   },
   "outputs": [
    {
     "name": "stdout",
     "output_type": "stream",
     "text": [
      "True Positive Rate: 0.791, True Negative Rate: 0.958, Threshold: 10.486000000000002\n"
     ]
    }
   ],
   "source": [
    "tp, fp, tn, fn = 0, 0, 0, 0\n",
    "for x, y in test_dataloader:\n",
    "    x = x.to(device)  # GPU\n",
    "    reconstruction = model(x)\n",
    "    loss = ((x - reconstruction) ** 2).sum()\n",
    "\n",
    "    if loss >= np.quantile(best_tresholds, 0.9):\n",
    "        y_pred = 1\n",
    "    else:\n",
    "        y_pred = 0\n",
    "\n",
    "    if int(y[0]) == 1 and y_pred == 1:\n",
    "        tp += 1\n",
    "    elif int(y[0]) == 1 and y_pred == 0:\n",
    "        fn += 1\n",
    "    elif int(y[0]) == 0 and y_pred == 1:\n",
    "        fp += 1\n",
    "    elif int(y[0]) == 0 and y_pred == 0:\n",
    "        tn += 1\n",
    "\n",
    "tp_rate = tp / (tp + fn)\n",
    "tn_rate = tn / (tn + fp)\n",
    "\n",
    "print(\n",
    "    f\"True Positive Rate: {(tp / (tp + fn)):.3f}, True Negative Rate: {(tn / (tn + fp)):.3f}, Threshold: {np.quantile(best_tresholds, 0.9)}\"\n",
    ")"
   ]
  },
  {
   "cell_type": "code",
   "execution_count": 46,
   "metadata": {
    "id": "vaaWR5d4lGCX"
   },
   "outputs": [],
   "source": [
    "model.eval()\n",
    "with torch.no_grad():\n",
    "    losses = []\n",
    "    true = []\n",
    "\n",
    "    for x, y in test_dataloader:\n",
    "        true.append(int(y[0]))\n",
    "        x = x.to(device)  # GPU\n",
    "        reconstruction = model(x)\n",
    "        loss = ((x - reconstruction) ** 2).sum()\n",
    "        losses.append(loss.item())\n",
    "\n",
    "thresholds, tp_rate, tn_rate = [], [], []\n",
    "for thresh in range(1, 6000, 1):\n",
    "    tp, fp, tn, fn = 0, 0, 0, 0\n",
    "    for loss, y in zip(losses, true):\n",
    "        if loss >= (thresh / 100):\n",
    "            y_pred = 1\n",
    "        else:\n",
    "            y_pred = 0\n",
    "\n",
    "        if y == 1 and y_pred == 1:\n",
    "            tp += 1\n",
    "        elif y == 1 and y_pred == 0:\n",
    "            fn += 1\n",
    "        elif y == 0 and y_pred == 1:\n",
    "            fp += 1\n",
    "        elif y == 0 and y_pred == 0:\n",
    "            tn += 1\n",
    "\n",
    "    thresholds.append(thresh / 100)\n",
    "    tp_rate.append(tp / (tp + fn))\n",
    "    tn_rate.append(tn / (tn + fp))\n",
    "\n",
    "    if tp / (tp + fn) > 0.91 and tn / (tn + fp) > 0.91:\n",
    "        print(\n",
    "            f\"threshold = {(thresh / 100):.2f}: True Positive Rate: {(tp / (tp + fn)):.3f}, True Negative Rate: {(tn / (tn + fp)):.3f}\"\n",
    "        )"
   ]
  },
  {
   "cell_type": "code",
   "execution_count": 47,
   "metadata": {
    "colab": {
     "base_uri": "https://localhost:8080/",
     "height": 607
    },
    "id": "12H1bF7DlJfX",
    "outputId": "2f47007d-37d8-4594-cf2e-469d7f3327bd"
   },
   "outputs": [
    {
     "data": {
      "image/png": "[encoded data removed]",
      "text/plain": [
       "<Figure size 800x600 with 1 Axes>"
      ]
     },
     "metadata": {},
     "output_type": "display_data"
    }
   ],
   "source": [
    "plt.figure(figsize=(8, 6))\n",
    "\n",
    "plt.plot(\n",
    "    thresholds,\n",
    "    tp_rate,\n",
    "    label=\"True Positive Rate\",\n",
    "    color=\"green\",\n",
    "    linestyle=\"-\",\n",
    "    linewidth=2,\n",
    "    marker=\"o\",\n",
    "    markersize=6,\n",
    ")\n",
    "plt.plot(\n",
    "    thresholds,\n",
    "    tn_rate,\n",
    "    label=\"True Negative Rate\",\n",
    "    color=\"blue\",\n",
    "    linestyle=\"--\",\n",
    "    linewidth=2,\n",
    "    marker=\"x\",\n",
    "    markersize=6,\n",
    ")\n",
    "\n",
    "plt.title(\n",
    "    \"TP and TN Rate vs Thresholds\", fontsize=14, fontweight=\"bold\", color=\"darkred\"\n",
    ")\n",
    "plt.xlabel(\"Threshold\", fontsize=12)\n",
    "plt.ylabel(\"Rate\", fontsize=12)\n",
    "\n",
    "plt.gca().set_facecolor(\"lightgray\")\n",
    "plt.legend(title=\"Rates\", title_fontsize=\"13\", loc=\"best\", fontsize=11)\n",
    "\n",
    "plt.grid(True, which=\"both\", linestyle=\"--\", linewidth=0.5, alpha=0.7)\n",
    "\n",
    "plt.tight_layout()\n",
    "plt.show()"
   ]
  },
  {
   "cell_type": "code",
   "execution_count": 10,
   "metadata": {},
   "outputs": [],
   "source": [
    "torch.cuda.empty_cache()"
   ]
  },
  {
   "cell_type": "markdown",
   "metadata": {
    "id": "fC0GmfjAu1Y0"
   },
   "source": [
    "# 2. VAE из лекции"
   ]
  },
  {
   "cell_type": "code",
   "execution_count": 11,
   "metadata": {
    "id": "9gQdvZLSu64K"
   },
   "outputs": [],
   "source": [
    "class Decoder(nn.Module):\n",
    "    def __init__(self, latent_dims, input_c):\n",
    "        self.input_c = input_c\n",
    "        super(Decoder, self).__init__()\n",
    "        self.linear1 = nn.Linear(latent_dims, 128)\n",
    "        self.linear2 = nn.Linear(128, 512)\n",
    "        self.linear3 = nn.Linear(512, input_c * 784)\n",
    "\n",
    "    def forward(self, z):\n",
    "        z = F.relu(self.linear1(z))\n",
    "        z = F.relu(self.linear2(z))\n",
    "        z = torch.sigmoid(self.linear3(z))\n",
    "        return z.reshape((-1, self.input_c, 28, 28))\n",
    "\n",
    "\n",
    "class VariationalEncoder(nn.Module):\n",
    "    def __init__(self, latent_dims, input_c):\n",
    "        super(VariationalEncoder, self).__init__()\n",
    "        self.linear1 = nn.Linear(input_c * 784, 512)\n",
    "        self.linear2 = nn.Linear(512, latent_dims)\n",
    "        self.linear3 = nn.Linear(512, latent_dims)\n",
    "\n",
    "        self.N = torch.distributions.Normal(0, 1)\n",
    "        self.N.loc = self.N.loc.cuda() \n",
    "        self.N.scale = self.N.scale.cuda()\n",
    "        self.kl = 0\n",
    "\n",
    "    def forward(self, x):\n",
    "        x = torch.flatten(x, start_dim=1)\n",
    "        x = F.relu(self.linear1(x))\n",
    "        mu = self.linear2(x)\n",
    "        sigma = torch.exp(self.linear3(x))\n",
    "        z = mu + sigma * self.N.sample(mu.shape)\n",
    "        self.kl = (sigma**2 + mu**2 - torch.log(sigma) - 1 / 2).sum()\n",
    "        return z\n",
    "\n",
    "\n",
    "class VariationalAutoencoder(nn.Module):\n",
    "    def __init__(self, latent_dims=16, input_c=1):\n",
    "        super(VariationalAutoencoder, self).__init__()\n",
    "        self.encoder = VariationalEncoder(latent_dims, input_c)\n",
    "        self.decoder = Decoder(latent_dims, input_c)\n",
    "\n",
    "    def forward(self, x):\n",
    "        z = self.encoder(x)\n",
    "        return self.decoder(z)"
   ]
  },
  {
   "cell_type": "code",
   "execution_count": 12,
   "metadata": {
    "colab": {
     "base_uri": "https://localhost:8080/"
    },
    "id": "a-p-NoVuu_Hh",
    "outputId": "599b8141-3ad0-44b2-f8e7-790e2511bbce"
   },
   "outputs": [
    {
     "name": "stderr",
     "output_type": "stream",
     "text": [
      " 20%|██        | 1/5 [00:12<00:49, 12.28s/it]"
     ]
    },
    {
     "name": "stdout",
     "output_type": "stream",
     "text": [
      "epoch 1: train loss 11.56009578704834, validation loss 16.14698600769043\n"
     ]
    },
    {
     "name": "stderr",
     "output_type": "stream",
     "text": [
      " 40%|████      | 2/5 [00:24<00:36, 12.31s/it]"
     ]
    },
    {
     "name": "stdout",
     "output_type": "stream",
     "text": [
      "epoch 2: train loss 10.539739608764648, validation loss 15.121967315673828\n"
     ]
    },
    {
     "name": "stderr",
     "output_type": "stream",
     "text": [
      " 60%|██████    | 3/5 [00:37<00:24, 12.39s/it]"
     ]
    },
    {
     "name": "stdout",
     "output_type": "stream",
     "text": [
      "epoch 3: train loss 10.54422664642334, validation loss 16.0620059967041\n"
     ]
    },
    {
     "name": "stderr",
     "output_type": "stream",
     "text": [
      " 80%|████████  | 4/5 [00:49<00:12, 12.50s/it]"
     ]
    },
    {
     "name": "stdout",
     "output_type": "stream",
     "text": [
      "epoch 4: train loss 10.52216625213623, validation loss 15.940418243408203\n"
     ]
    },
    {
     "name": "stderr",
     "output_type": "stream",
     "text": [
      "100%|██████████| 5/5 [01:02<00:00, 12.51s/it]"
     ]
    },
    {
     "name": "stdout",
     "output_type": "stream",
     "text": [
      "epoch 5: train loss 10.530033111572266, validation loss 15.496667861938477\n"
     ]
    },
    {
     "name": "stderr",
     "output_type": "stream",
     "text": [
      "\n"
     ]
    }
   ],
   "source": [
    "model = VariationalAutoencoder(input_c=3).to(device)\n",
    "opt = torch.optim.Adam(model.parameters())\n",
    "\n",
    "for epoch in tqdm.tqdm(range(5)):\n",
    "    model.train()\n",
    "    train_count = 0\n",
    "    running_loss = 0\n",
    "    for x, y in train_dataloader:\n",
    "        train_count += 1\n",
    "        x = x.to(device)  # GPU\n",
    "        opt.zero_grad()\n",
    "        x_hat = model(x)\n",
    "        loss = ((x - x_hat) ** 2).sum() + model.encoder.kl\n",
    "        running_loss += loss / batch_size\n",
    "        loss.backward()\n",
    "        opt.step()\n",
    "\n",
    "    model.eval()\n",
    "    val_count = 0\n",
    "    val_loss = 0\n",
    "    with torch.no_grad():\n",
    "        for x, y in proliv_dataloader:\n",
    "            val_count += 1\n",
    "            x = x.to(device)  # GPU\n",
    "            reconstruction = model(x)\n",
    "            loss = ((x - reconstruction) ** 2).sum()\n",
    "            val_loss += loss / batch_size\n",
    "    print(\n",
    "        f\"epoch {epoch+1}: train loss {running_loss / train_count}, validation loss {val_loss / val_count}\"\n",
    "    )"
   ]
  },
  {
   "cell_type": "code",
   "execution_count": 13,
   "metadata": {},
   "outputs": [
    {
     "name": "stdout",
     "output_type": "stream",
     "text": [
      "=================================================================\n",
      "Layer (type:depth-idx)                   Param #\n",
      "=================================================================\n",
      "├─VariationalEncoder: 1-1                --\n",
      "|    └─Linear: 2-1                       1,204,736\n",
      "|    └─Linear: 2-2                       8,208\n",
      "|    └─Linear: 2-3                       8,208\n",
      "├─Decoder: 1-2                           --\n",
      "|    └─Linear: 2-4                       2,176\n",
      "|    └─Linear: 2-5                       66,048\n",
      "|    └─Linear: 2-6                       1,206,576\n",
      "=================================================================\n",
      "Total params: 2,495,952\n",
      "Trainable params: 2,495,952\n",
      "Non-trainable params: 0\n",
      "=================================================================\n"
     ]
    },
    {
     "data": {
      "text/plain": [
       "=================================================================\n",
       "Layer (type:depth-idx)                   Param #\n",
       "=================================================================\n",
       "├─VariationalEncoder: 1-1                --\n",
       "|    └─Linear: 2-1                       1,204,736\n",
       "|    └─Linear: 2-2                       8,208\n",
       "|    └─Linear: 2-3                       8,208\n",
       "├─Decoder: 1-2                           --\n",
       "|    └─Linear: 2-4                       2,176\n",
       "|    └─Linear: 2-5                       66,048\n",
       "|    └─Linear: 2-6                       1,206,576\n",
       "=================================================================\n",
       "Total params: 2,495,952\n",
       "Trainable params: 2,495,952\n",
       "Non-trainable params: 0\n",
       "================================================================="
      ]
     },
     "execution_count": 13,
     "metadata": {},
     "output_type": "execute_result"
    }
   ],
   "source": [
    "summary(model, input_size=(3, 28, 28))"
   ]
  },
  {
   "cell_type": "code",
   "execution_count": 14,
   "metadata": {
    "colab": {
     "base_uri": "https://localhost:8080/"
    },
    "id": "VWk9hH0IvLbF",
    "outputId": "76cc24db-3b7a-4803-bd3c-c9479f3e144f"
   },
   "outputs": [
    {
     "name": "stdout",
     "output_type": "stream",
     "text": [
      "choosen threshold: 16.66\n"
     ]
    }
   ],
   "source": [
    "model.eval()\n",
    "proliv_dataloader = DataLoader(proliv_dataset, batch_size=1, shuffle=True)\n",
    "with torch.no_grad():\n",
    "    losses = []\n",
    "    true = []\n",
    "\n",
    "    for x, y in proliv_dataloader:\n",
    "        true.append(int(y[0]))\n",
    "        x = x.to(device)  # GPU\n",
    "        reconstruction = model(x)\n",
    "        loss = ((x - reconstruction) ** 2).sum() + model.encoder.kl\n",
    "        losses.append(loss.item())\n",
    "\n",
    "thresolds, tp_rate = [], []\n",
    "best_tresholds = []\n",
    "for thresh in range(1, 6000, 1):\n",
    "    tp, fp, tn, fn = 0, 0, 0, 0\n",
    "    for loss, y in zip(losses, true):\n",
    "        if loss >= (thresh / 100):\n",
    "            y_pred = 1\n",
    "        else:\n",
    "            y_pred = 0\n",
    "\n",
    "        if y == 1 and y_pred == 1:\n",
    "            tp += 1\n",
    "        elif y == 1 and y_pred == 0:\n",
    "            fn += 1\n",
    "        elif y == 0 and y_pred == 1:\n",
    "            fp += 1\n",
    "        elif y == 0 and y_pred == 0:\n",
    "            tn += 1\n",
    "\n",
    "    thresolds.append(thresh / 100)\n",
    "    tp_rate.append(tp / (tp + fn))\n",
    "\n",
    "    if tp / (tp + fn) == 1:\n",
    "        best_tresholds.append(thresh / 100)\n",
    "\n",
    "if len(best_tresholds) > 0:\n",
    "    print(f\"choosen threshold: {np.quantile(best_tresholds, 0.9)}\")\n",
    "else:\n",
    "    print(\"no possible thresholds\")"
   ]
  },
  {
   "cell_type": "code",
   "execution_count": 15,
   "metadata": {
    "id": "uQPLgZNzvOqR"
   },
   "outputs": [
    {
     "name": "stdout",
     "output_type": "stream",
     "text": [
      "True Positive Rate: 0.89, True Negative Rate: 0.90, Threshold: 16.66\n"
     ]
    }
   ],
   "source": [
    "tp, fp, tn, fn = 0, 0, 0, 0\n",
    "for x, y in test_dataloader:\n",
    "    x = x.to(device)  # GPU\n",
    "    reconstruction = model(x)\n",
    "    loss = ((x - reconstruction) ** 2).sum() + model.encoder.kl\n",
    "\n",
    "    if loss >= np.quantile(best_tresholds, 0.9):\n",
    "        y_pred = 1\n",
    "    else:\n",
    "        y_pred = 0\n",
    "\n",
    "    if int(y[0]) == 1 and y_pred == 1:\n",
    "        tp += 1\n",
    "    elif int(y[0]) == 1 and y_pred == 0:\n",
    "        fn += 1\n",
    "    elif int(y[0]) == 0 and y_pred == 1:\n",
    "        fp += 1\n",
    "    elif int(y[0]) == 0 and y_pred == 0:\n",
    "        tn += 1\n",
    "\n",
    "tp_rate = tp / (tp + fn)\n",
    "tn_rate = tn / (tn + fp)\n",
    "\n",
    "print(\n",
    "    f\"True Positive Rate: {(tp / (tp + fn)):.2f}, True Negative Rate: {(tn / (tn + fp)):.2f}, Threshold: {np.quantile(best_tresholds, 0.9)}\"\n",
    ")"
   ]
  },
  {
   "cell_type": "code",
   "execution_count": 16,
   "metadata": {
    "id": "Ncw_CvsnvPHT"
   },
   "outputs": [],
   "source": [
    "model.eval()\n",
    "with torch.no_grad():\n",
    "    losses = []\n",
    "    true = []\n",
    "\n",
    "    for x, y in test_dataloader:\n",
    "        true.append(int(y[0]))\n",
    "        x = x.to(device)  # GPU\n",
    "        reconstruction = model(x)\n",
    "        loss = ((x - reconstruction) ** 2).sum()\n",
    "        losses.append(loss.item())\n",
    "\n",
    "thresolds, tp_rate, tn_rate = [], [], []\n",
    "for thresh in range(1, 6000, 1):\n",
    "    tp, fp, tn, fn = 0, 0, 0, 0\n",
    "    for loss, y in zip(losses, true):\n",
    "        if loss >= (thresh / 100):\n",
    "            y_pred = 1\n",
    "        else:\n",
    "            y_pred = 0\n",
    "\n",
    "        if y == 1 and y_pred == 1:\n",
    "            tp += 1\n",
    "        elif y == 1 and y_pred == 0:\n",
    "            fn += 1\n",
    "        elif y == 0 and y_pred == 1:\n",
    "            fp += 1\n",
    "        elif y == 0 and y_pred == 0:\n",
    "            tn += 1\n",
    "\n",
    "    thresolds.append(thresh / 100)\n",
    "    tp_rate.append(tp / (tp + fn))\n",
    "    tn_rate.append(tn / (tn + fp))\n",
    "\n",
    "    if tp / (tp + fn) > 0.91 and tn / (tn + fp) > 0.91:\n",
    "        print(\n",
    "            f\"threshold = {(thresh / 100):.2f}: True Positive Rate: {(tp / (tp + fn)):.3f}, True Negative Rate: {(tn / (tn + fp)):.3f}\"\n",
    "        )"
   ]
  },
  {
   "cell_type": "code",
   "execution_count": 17,
   "metadata": {
    "id": "Y0Beyye3vVVd"
   },
   "outputs": [
    {
     "data": {
      "image/png": "[encoded data removed]",
      "text/plain": [
       "<Figure size 800x600 with 1 Axes>"
      ]
     },
     "metadata": {},
     "output_type": "display_data"
    }
   ],
   "source": [
    "plt.figure(figsize=(8, 6))\n",
    "\n",
    "plt.plot(\n",
    "    thresolds,\n",
    "    tp_rate,\n",
    "    label=\"True Positive Rate\",\n",
    "    color=\"green\",\n",
    "    linestyle=\"-\",\n",
    "    linewidth=2,\n",
    "    marker=\"o\",\n",
    "    markersize=6,\n",
    ")\n",
    "plt.plot(\n",
    "    thresolds,\n",
    "    tn_rate,\n",
    "    label=\"True Negative Rate\",\n",
    "    color=\"blue\",\n",
    "    linestyle=\"--\",\n",
    "    linewidth=2,\n",
    "    marker=\"x\",\n",
    "    markersize=6,\n",
    ")\n",
    "\n",
    "plt.title(\n",
    "    \"TP and TN Rate vs Thresholds\", fontsize=14, fontweight=\"bold\", color=\"darkred\"\n",
    ")\n",
    "plt.xlabel(\"Threshold\", fontsize=12)\n",
    "plt.ylabel(\"Rate\", fontsize=12)\n",
    "\n",
    "plt.gca().set_facecolor(\"lightgray\")\n",
    "plt.legend(title=\"Rates\", title_fontsize=\"13\", loc=\"best\", fontsize=11)\n",
    "\n",
    "plt.grid(True, which=\"both\", linestyle=\"--\", linewidth=0.5, alpha=0.7)\n",
    "\n",
    "plt.tight_layout()\n",
    "plt.show()"
   ]
  },
  {
   "cell_type": "code",
   "execution_count": 18,
   "metadata": {},
   "outputs": [],
   "source": [
    "torch.cuda.empty_cache()"
   ]
  },
  {
   "cell_type": "markdown",
   "metadata": {
    "id": "dgVy3gI3wIg9"
   },
   "source": [
    "# 3.Автоэнкодер со сверткой"
   ]
  },
  {
   "cell_type": "code",
   "execution_count": 27,
   "metadata": {
    "id": "m_qs54xhwLUl"
   },
   "outputs": [],
   "source": [
    "class ConvAutoencoder(nn.Module):\n",
    "    def __init__(self, input_c=3):\n",
    "        super(ConvAutoencoder, self).__init__()\n",
    "\n",
    "        ## Encoder ##\n",
    "        self.conv1 = nn.Conv2d(input_c, 32, 3, padding=1)  # 3 -> 32\n",
    "        self.conv1_bn = nn.BatchNorm2d(32)\n",
    "\n",
    "        self.conv2 = nn.Conv2d(32, 64, 3, padding=1)  # 32 -> 64\n",
    "        self.conv2_bn = nn.BatchNorm2d(64)\n",
    "\n",
    "        self.pool = nn.MaxPool2d(2, 2)  # Пулинг с размером 2x2\n",
    "\n",
    "        self.conv3 = nn.Conv2d(64, 128, 3, padding=1)  # 64 -> 128\n",
    "        self.conv3_bn = nn.BatchNorm2d(128)\n",
    "\n",
    "        ## Decoder ##\n",
    "        self.t_conv1 = nn.ConvTranspose2d(128, 64, 2, stride=2)  # 128 -> 64\n",
    "        self.t_conv1_bn = nn.BatchNorm2d(64)\n",
    "\n",
    "        self.t_conv2 = nn.ConvTranspose2d(64, 32, 2, stride=2)  # 64 -> 32\n",
    "        self.t_conv2_bn = nn.BatchNorm2d(32)\n",
    "\n",
    "        self.t_conv3 = nn.ConvTranspose2d(32, input_c, 3, padding=1)\n",
    "\n",
    "        self.dropout = nn.Dropout(p=0.5)\n",
    "\n",
    "    def forward(self, x):\n",
    "        ## Encoder ##\n",
    "        x = F.relu(self.conv1_bn(self.conv1(x)))  # 28x28 -> 28x28\n",
    "        x = self.pool(x)  # 28x28 -> 14x14\n",
    "\n",
    "        x = F.relu(self.conv2_bn(self.conv2(x)))  # 14x14 -> 14x14\n",
    "        x = self.pool(x)  # 14x14 -> 7x7\n",
    "\n",
    "        x = F.relu(self.conv3_bn(self.conv3(x)))  # 7x7 -> 7x7\n",
    "\n",
    "        ## Decoder ##\n",
    "        x = F.relu(self.t_conv1_bn(self.t_conv1(x)))  # 7x7 -> 14x14\n",
    "        x = self.dropout(x)\n",
    "\n",
    "        x = F.relu(self.t_conv2_bn(self.t_conv2(x)))  # 14x14 -> 28x28\n",
    "        x = self.dropout(x)\n",
    "\n",
    "        x = torch.sigmoid(self.t_conv3(x))  # 28x28 -> 28x28\n",
    "\n",
    "        return x"
   ]
  },
  {
   "cell_type": "code",
   "execution_count": 28,
   "metadata": {
    "id": "K11LglFFwWBb"
   },
   "outputs": [
    {
     "name": "stderr",
     "output_type": "stream",
     "text": [
      "  5%|▌         | 1/20 [00:12<03:50, 12.15s/it]"
     ]
    },
    {
     "name": "stdout",
     "output_type": "stream",
     "text": [
      "epoch 1: train loss 29.499719619750977, validation loss 11.661151885986328\n"
     ]
    },
    {
     "name": "stderr",
     "output_type": "stream",
     "text": [
      " 10%|█         | 2/20 [00:23<03:35, 11.95s/it]"
     ]
    },
    {
     "name": "stdout",
     "output_type": "stream",
     "text": [
      "epoch 2: train loss 3.340859889984131, validation loss 8.333906173706055\n"
     ]
    },
    {
     "name": "stderr",
     "output_type": "stream",
     "text": [
      " 15%|█▌        | 3/20 [00:35<03:18, 11.65s/it]"
     ]
    },
    {
     "name": "stdout",
     "output_type": "stream",
     "text": [
      "epoch 3: train loss 2.268207550048828, validation loss 7.0850934982299805\n"
     ]
    },
    {
     "name": "stderr",
     "output_type": "stream",
     "text": [
      " 20%|██        | 4/20 [00:46<03:03, 11.45s/it]"
     ]
    },
    {
     "name": "stdout",
     "output_type": "stream",
     "text": [
      "epoch 4: train loss 1.8334285020828247, validation loss 6.333014488220215\n"
     ]
    },
    {
     "name": "stderr",
     "output_type": "stream",
     "text": [
      " 25%|██▌       | 5/20 [00:57<02:51, 11.40s/it]"
     ]
    },
    {
     "name": "stdout",
     "output_type": "stream",
     "text": [
      "epoch 5: train loss 1.5621341466903687, validation loss 5.422267913818359\n"
     ]
    },
    {
     "name": "stderr",
     "output_type": "stream",
     "text": [
      " 30%|███       | 6/20 [01:09<02:39, 11.37s/it]"
     ]
    },
    {
     "name": "stdout",
     "output_type": "stream",
     "text": [
      "epoch 6: train loss 1.3891407251358032, validation loss 5.055715560913086\n"
     ]
    },
    {
     "name": "stderr",
     "output_type": "stream",
     "text": [
      " 35%|███▌      | 7/20 [01:20<02:27, 11.33s/it]"
     ]
    },
    {
     "name": "stdout",
     "output_type": "stream",
     "text": [
      "epoch 7: train loss 1.272438883781433, validation loss 4.642661094665527\n"
     ]
    },
    {
     "name": "stderr",
     "output_type": "stream",
     "text": [
      " 40%|████      | 8/20 [01:31<02:15, 11.26s/it]"
     ]
    },
    {
     "name": "stdout",
     "output_type": "stream",
     "text": [
      "epoch 8: train loss 1.1910269260406494, validation loss 4.516026496887207\n"
     ]
    },
    {
     "name": "stderr",
     "output_type": "stream",
     "text": [
      " 45%|████▌     | 9/20 [01:42<02:04, 11.30s/it]"
     ]
    },
    {
     "name": "stdout",
     "output_type": "stream",
     "text": [
      "epoch 9: train loss 1.101896047592163, validation loss 4.585298538208008\n"
     ]
    },
    {
     "name": "stderr",
     "output_type": "stream",
     "text": [
      " 50%|█████     | 10/20 [01:54<01:53, 11.30s/it]"
     ]
    },
    {
     "name": "stdout",
     "output_type": "stream",
     "text": [
      "epoch 10: train loss 1.0490771532058716, validation loss 4.078090190887451\n"
     ]
    },
    {
     "name": "stderr",
     "output_type": "stream",
     "text": [
      " 55%|█████▌    | 11/20 [02:05<01:41, 11.24s/it]"
     ]
    },
    {
     "name": "stdout",
     "output_type": "stream",
     "text": [
      "epoch 11: train loss 0.9998079538345337, validation loss 4.068493366241455\n"
     ]
    },
    {
     "name": "stderr",
     "output_type": "stream",
     "text": [
      " 60%|██████    | 12/20 [02:16<01:30, 11.26s/it]"
     ]
    },
    {
     "name": "stdout",
     "output_type": "stream",
     "text": [
      "epoch 12: train loss 0.9622799158096313, validation loss 4.175233840942383\n"
     ]
    },
    {
     "name": "stderr",
     "output_type": "stream",
     "text": [
      " 65%|██████▌   | 13/20 [02:27<01:18, 11.28s/it]"
     ]
    },
    {
     "name": "stdout",
     "output_type": "stream",
     "text": [
      "epoch 13: train loss 0.9132661819458008, validation loss 3.9400813579559326\n"
     ]
    },
    {
     "name": "stderr",
     "output_type": "stream",
     "text": [
      " 70%|███████   | 14/20 [02:38<01:07, 11.25s/it]"
     ]
    },
    {
     "name": "stdout",
     "output_type": "stream",
     "text": [
      "epoch 14: train loss 0.8863169550895691, validation loss 3.9596362113952637\n"
     ]
    },
    {
     "name": "stderr",
     "output_type": "stream",
     "text": [
      " 75%|███████▌  | 15/20 [02:50<00:56, 11.26s/it]"
     ]
    },
    {
     "name": "stdout",
     "output_type": "stream",
     "text": [
      "epoch 15: train loss 0.8686503171920776, validation loss 3.5868818759918213\n"
     ]
    },
    {
     "name": "stderr",
     "output_type": "stream",
     "text": [
      " 80%|████████  | 16/20 [03:01<00:45, 11.27s/it]"
     ]
    },
    {
     "name": "stdout",
     "output_type": "stream",
     "text": [
      "epoch 16: train loss 0.841858983039856, validation loss 3.431673049926758\n"
     ]
    },
    {
     "name": "stderr",
     "output_type": "stream",
     "text": [
      " 85%|████████▌ | 17/20 [03:12<00:33, 11.28s/it]"
     ]
    },
    {
     "name": "stdout",
     "output_type": "stream",
     "text": [
      "epoch 17: train loss 0.8326646089553833, validation loss 3.158968448638916\n"
     ]
    },
    {
     "name": "stderr",
     "output_type": "stream",
     "text": [
      " 90%|█████████ | 18/20 [03:24<00:22, 11.23s/it]"
     ]
    },
    {
     "name": "stdout",
     "output_type": "stream",
     "text": [
      "epoch 18: train loss 0.8078896999359131, validation loss 3.2997641563415527\n"
     ]
    },
    {
     "name": "stderr",
     "output_type": "stream",
     "text": [
      " 95%|█████████▌| 19/20 [03:35<00:11, 11.36s/it]"
     ]
    },
    {
     "name": "stdout",
     "output_type": "stream",
     "text": [
      "epoch 19: train loss 0.7831007838249207, validation loss 3.4243602752685547\n"
     ]
    },
    {
     "name": "stderr",
     "output_type": "stream",
     "text": [
      "100%|██████████| 20/20 [03:47<00:00, 11.37s/it]"
     ]
    },
    {
     "name": "stdout",
     "output_type": "stream",
     "text": [
      "epoch 20: train loss 0.7672815322875977, validation loss 2.8812785148620605\n"
     ]
    },
    {
     "name": "stderr",
     "output_type": "stream",
     "text": [
      "\n"
     ]
    }
   ],
   "source": [
    "model = ConvAutoencoder(input_c=3).to(device)\n",
    "opt = torch.optim.Adam(model.parameters())\n",
    "\n",
    "for epoch in tqdm.tqdm(range(20)):\n",
    "    model.train()\n",
    "    train_count = 0\n",
    "    running_loss = 0\n",
    "    for x, y in train_dataloader:\n",
    "        train_count += 1\n",
    "        x = x.to(device)  # GPU\n",
    "        opt.zero_grad()\n",
    "        x_hat = model(x)\n",
    "        loss = ((x - x_hat) ** 2).sum()\n",
    "        running_loss += loss / batch_size\n",
    "        loss.backward()\n",
    "        opt.step()\n",
    "\n",
    "    model.eval()\n",
    "    val_count = 0\n",
    "    val_loss = 0\n",
    "    with torch.no_grad():\n",
    "        for x, y in proliv_dataloader:\n",
    "            val_count += 1\n",
    "            x = x.to(device)  # GPU\n",
    "            reconstruction = model(x)\n",
    "            loss = ((x - reconstruction) ** 2).sum()\n",
    "            val_loss += loss / batch_size\n",
    "    print(\n",
    "        f\"epoch {epoch+1}: train loss {running_loss / train_count}, validation loss {val_loss / val_count}\"\n",
    "    )"
   ]
  },
  {
   "cell_type": "code",
   "execution_count": 29,
   "metadata": {},
   "outputs": [
    {
     "name": "stdout",
     "output_type": "stream",
     "text": [
      "=================================================================\n",
      "Layer (type:depth-idx)                   Param #\n",
      "=================================================================\n",
      "├─Conv2d: 1-1                            896\n",
      "├─BatchNorm2d: 1-2                       64\n",
      "├─Conv2d: 1-3                            18,496\n",
      "├─BatchNorm2d: 1-4                       128\n",
      "├─MaxPool2d: 1-5                         --\n",
      "├─Conv2d: 1-6                            73,856\n",
      "├─BatchNorm2d: 1-7                       256\n",
      "├─ConvTranspose2d: 1-8                   32,832\n",
      "├─BatchNorm2d: 1-9                       128\n",
      "├─ConvTranspose2d: 1-10                  8,224\n",
      "├─BatchNorm2d: 1-11                      64\n",
      "├─ConvTranspose2d: 1-12                  867\n",
      "├─Dropout: 1-13                          --\n",
      "=================================================================\n",
      "Total params: 135,811\n",
      "Trainable params: 135,811\n",
      "Non-trainable params: 0\n",
      "=================================================================\n"
     ]
    },
    {
     "data": {
      "text/plain": [
       "=================================================================\n",
       "Layer (type:depth-idx)                   Param #\n",
       "=================================================================\n",
       "├─Conv2d: 1-1                            896\n",
       "├─BatchNorm2d: 1-2                       64\n",
       "├─Conv2d: 1-3                            18,496\n",
       "├─BatchNorm2d: 1-4                       128\n",
       "├─MaxPool2d: 1-5                         --\n",
       "├─Conv2d: 1-6                            73,856\n",
       "├─BatchNorm2d: 1-7                       256\n",
       "├─ConvTranspose2d: 1-8                   32,832\n",
       "├─BatchNorm2d: 1-9                       128\n",
       "├─ConvTranspose2d: 1-10                  8,224\n",
       "├─BatchNorm2d: 1-11                      64\n",
       "├─ConvTranspose2d: 1-12                  867\n",
       "├─Dropout: 1-13                          --\n",
       "=================================================================\n",
       "Total params: 135,811\n",
       "Trainable params: 135,811\n",
       "Non-trainable params: 0\n",
       "================================================================="
      ]
     },
     "execution_count": 29,
     "metadata": {},
     "output_type": "execute_result"
    }
   ],
   "source": [
    "summary(model, input_size=(3, 28, 28))"
   ]
  },
  {
   "cell_type": "code",
   "execution_count": 30,
   "metadata": {
    "id": "13hG-vzkwaDo"
   },
   "outputs": [
    {
     "name": "stdout",
     "output_type": "stream",
     "text": [
      "choosen threshold: 0.6760000000000002\n"
     ]
    }
   ],
   "source": [
    "model.eval()\n",
    "proliv_dataloader = DataLoader(proliv_dataset, batch_size=1, shuffle=True)\n",
    "with torch.no_grad():\n",
    "    losses = []\n",
    "    true = []\n",
    "\n",
    "    for x, y in proliv_dataloader:\n",
    "\n",
    "        true.append(int(y[0]))\n",
    "        x = x.to(device) # GPU\n",
    "        reconstruction = model(x)\n",
    "        loss = ((x - reconstruction)**2).sum()\n",
    "        losses.append(loss.item())\n",
    "\n",
    "thresolds, tp_rate = [], []\n",
    "best_tresholds = []\n",
    "for thresh in range(1, 6000, 1):\n",
    "    tp, fp, tn, fn = 0, 0, 0, 0\n",
    "    for loss, y in zip(losses, true):\n",
    "        if loss >= (thresh / 100):\n",
    "            y_pred = 1\n",
    "        else:\n",
    "            y_pred = 0\n",
    "        \n",
    "        if y == 1 and y_pred == 1:\n",
    "            tp += 1\n",
    "        elif y == 1 and y_pred == 0:\n",
    "            fn += 1\n",
    "        elif y == 0 and y_pred == 1:\n",
    "            fp += 1\n",
    "        elif y == 0 and y_pred == 0:\n",
    "            tn += 1\n",
    "    \n",
    "    thresolds.append(thresh / 100)\n",
    "    tp_rate.append(tp / (tp + fn))\n",
    "\n",
    "    if tp / (tp + fn) == 1:\n",
    "        best_tresholds.append(thresh / 100)\n",
    "        # print(f\"threshold = {(thresh / 10):.2f}: True Positive Rate: {(tp / (tp + fn)):.2f}\")\n",
    "\n",
    "if len(best_tresholds) > 0:\n",
    "    print(f\"choosen threshold: {np.quantile(best_tresholds, 0.9)}\")\n",
    "else:\n",
    "    print(\"no possible thresholds\")"
   ]
  },
  {
   "cell_type": "code",
   "execution_count": 31,
   "metadata": {
    "id": "TCrkrdWMwzwx"
   },
   "outputs": [
    {
     "name": "stdout",
     "output_type": "stream",
     "text": [
      "True Positive Rate: 0.93, True Negative Rate: 0.77, Threshold: 0.6760000000000002\n"
     ]
    }
   ],
   "source": [
    "tp, fp, tn, fn = 0, 0, 0, 0\n",
    "for x, y in test_dataloader:\n",
    "\n",
    "    x = x.to(device) # GPU\n",
    "    reconstruction = model(x)\n",
    "    loss = ((x - reconstruction)**2).sum()\n",
    "\n",
    "    if loss >= np.quantile(best_tresholds, 0.9):\n",
    "        y_pred = 1\n",
    "    else:\n",
    "        y_pred = 0\n",
    "    \n",
    "    if int(y[0]) == 1 and y_pred == 1:\n",
    "        tp += 1\n",
    "    elif int(y[0]) == 1 and y_pred == 0:\n",
    "        fn += 1\n",
    "    elif int(y[0]) == 0 and y_pred == 1:\n",
    "        fp += 1\n",
    "    elif int(y[0]) == 0 and y_pred == 0:\n",
    "        tn += 1\n",
    "    \n",
    "tp_rate = tp / (tp + fn)\n",
    "tn_rate = tn / (tn + fp)\n",
    "\n",
    "print(f\"True Positive Rate: {(tp / (tp + fn)):.2f}, True Negative Rate: {(tn / (tn + fp)):.2f}, Threshold: {np.quantile(best_tresholds, 0.9)}\")"
   ]
  },
  {
   "cell_type": "code",
   "execution_count": 32,
   "metadata": {
    "id": "tJhiiikiw4A-"
   },
   "outputs": [],
   "source": [
    "model.eval()\n",
    "with torch.no_grad():\n",
    "    losses = []\n",
    "    true = []\n",
    "\n",
    "    for x, y in test_dataloader:\n",
    "\n",
    "        true.append(int(y[0]))\n",
    "        x = x.to(device) # GPU\n",
    "        reconstruction = model(x)\n",
    "        loss = ((x - reconstruction)**2).sum()\n",
    "        losses.append(loss.item())\n",
    "\n",
    "thresolds, tp_rate, tn_rate = [], [], []\n",
    "for thresh in range(1, 6000, 1):\n",
    "    tp, fp, tn, fn = 0, 0, 0, 0\n",
    "    for loss, y in zip(losses, true):\n",
    "        if loss >= (thresh / 100):\n",
    "            y_pred = 1\n",
    "        else:\n",
    "            y_pred = 0\n",
    "        \n",
    "        if y == 1 and y_pred == 1:\n",
    "            tp += 1\n",
    "        elif y == 1 and y_pred == 0:\n",
    "            fn += 1\n",
    "        elif y == 0 and y_pred == 1:\n",
    "            fp += 1\n",
    "        elif y == 0 and y_pred == 0:\n",
    "            tn += 1\n",
    "    \n",
    "    thresolds.append(thresh / 100)\n",
    "    tp_rate.append(tp / (tp + fn))\n",
    "    tn_rate.append(tn / (tn + fp))\n",
    "\n",
    "    if tp / (tp + fn) > 0.91 and tn / (tn + fp) > 0.91:\n",
    "        print(f\"threshold = {(thresh / 100):.2f}: True Positive Rate: {(tp / (tp + fn)):.2f}, True Negative Rate: {(tn / (tn + fp)):.3f}\")"
   ]
  },
  {
   "cell_type": "code",
   "execution_count": 33,
   "metadata": {
    "id": "PQIP5Zn7w4Tk"
   },
   "outputs": [
    {
     "data": {
      "image/png": "[encoded data removed]",
      "text/plain": [
       "<Figure size 800x600 with 1 Axes>"
      ]
     },
     "metadata": {},
     "output_type": "display_data"
    }
   ],
   "source": [
    "plt.figure(figsize=(8, 6))\n",
    "\n",
    "\n",
    "plt.plot(\n",
    "    thresolds,\n",
    "    tp_rate,\n",
    "    label=\"True Positive Rate\",\n",
    "    color=\"green\",\n",
    "    linestyle=\"-\",\n",
    "    linewidth=2,\n",
    "    marker=\"o\",\n",
    "    markersize=6,\n",
    ")\n",
    "plt.plot(\n",
    "    thresolds,\n",
    "    tn_rate,\n",
    "    label=\"True Negative Rate\",\n",
    "    color=\"blue\",\n",
    "    linestyle=\"--\",\n",
    "    linewidth=2,\n",
    "    marker=\"x\",\n",
    "    markersize=6,\n",
    ")\n",
    "\n",
    "plt.title(\n",
    "    \"TP and TN Rate vs Thresholds\", fontsize=14, fontweight=\"bold\", color=\"darkred\"\n",
    ")\n",
    "plt.xlabel(\"Threshold\", fontsize=12)\n",
    "plt.ylabel(\"Rate\", fontsize=12)\n",
    "\n",
    "plt.gca().set_facecolor(\"lightgray\")\n",
    "plt.legend(title=\"Rates\", title_fontsize=\"13\", loc=\"best\", fontsize=11)\n",
    "\n",
    "plt.grid(True, which=\"both\", linestyle=\"--\", linewidth=0.5, alpha=0.7)\n",
    "\n",
    "plt.tight_layout()\n",
    "plt.show()"
   ]
  }
 ],
 "metadata": {
  "accelerator": "GPU",
  "colab": {
   "gpuType": "T4",
   "provenance": []
  },
  "kernelspec": {
   "display_name": "Python 3 (ipykernel)",
   "language": "python",
   "name": "python3"
  },
  "language_info": {
   "codemirror_mode": {
    "name": "ipython",
    "version": 3
   },
   "file_extension": ".py",
   "mimetype": "text/x-python",
   "name": "python",
   "nbconvert_exporter": "python",
   "pygments_lexer": "ipython3",
   "version": "3.8.20"
  }
 },
 "nbformat": 4,
 "nbformat_minor": 4
}
