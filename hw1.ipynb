{
  "nbformat": 4,
  "nbformat_minor": 0,
  "metadata": {
    "colab": {
      "provenance": [],
      "gpuType": "T4"
    },
    "kernelspec": {
      "name": "python3",
      "display_name": "Python 3"
    },
    "language_info": {
      "name": "python"
    },
    "accelerator": "GPU"
  },
  "cells": [
    {
      "cell_type": "code",
      "execution_count": null,
      "metadata": {
        "colab": {
          "base_uri": "https://localhost:8080/"
        },
        "id": "raCC-vzzd33W",
        "outputId": "40c89c2b-b101-4e4a-9bd0-99f672ca1ab3"
      },
      "outputs": [
        {
          "output_type": "stream",
          "name": "stdout",
          "text": [
            "Requirement already satisfied: wandb in /usr/local/lib/python3.10/dist-packages (0.18.7)\n",
            "Requirement already satisfied: click!=8.0.0,>=7.1 in /usr/local/lib/python3.10/dist-packages (from wandb) (8.1.7)\n",
            "Requirement already satisfied: docker-pycreds>=0.4.0 in /usr/local/lib/python3.10/dist-packages (from wandb) (0.4.0)\n",
            "Requirement already satisfied: gitpython!=3.1.29,>=1.0.0 in /usr/local/lib/python3.10/dist-packages (from wandb) (3.1.43)\n",
            "Requirement already satisfied: platformdirs in /usr/local/lib/python3.10/dist-packages (from wandb) (4.3.6)\n",
            "Requirement already satisfied: protobuf!=4.21.0,!=5.28.0,<6,>=3.19.0 in /usr/local/lib/python3.10/dist-packages (from wandb) (4.25.5)\n",
            "Requirement already satisfied: psutil>=5.0.0 in /usr/local/lib/python3.10/dist-packages (from wandb) (5.9.5)\n",
            "Requirement already satisfied: pyyaml in /usr/local/lib/python3.10/dist-packages (from wandb) (6.0.2)\n",
            "Requirement already satisfied: requests<3,>=2.0.0 in /usr/local/lib/python3.10/dist-packages (from wandb) (2.32.3)\n",
            "Requirement already satisfied: sentry-sdk>=2.0.0 in /usr/local/lib/python3.10/dist-packages (from wandb) (2.19.2)\n",
            "Requirement already satisfied: setproctitle in /usr/local/lib/python3.10/dist-packages (from wandb) (1.3.4)\n",
            "Requirement already satisfied: setuptools in /usr/local/lib/python3.10/dist-packages (from wandb) (75.1.0)\n",
            "Requirement already satisfied: typing-extensions<5,>=4.4 in /usr/local/lib/python3.10/dist-packages (from wandb) (4.12.2)\n",
            "Requirement already satisfied: six>=1.4.0 in /usr/local/lib/python3.10/dist-packages (from docker-pycreds>=0.4.0->wandb) (1.17.0)\n",
            "Requirement already satisfied: gitdb<5,>=4.0.1 in /usr/local/lib/python3.10/dist-packages (from gitpython!=3.1.29,>=1.0.0->wandb) (4.0.11)\n",
            "Requirement already satisfied: charset-normalizer<4,>=2 in /usr/local/lib/python3.10/dist-packages (from requests<3,>=2.0.0->wandb) (3.4.0)\n",
            "Requirement already satisfied: idna<4,>=2.5 in /usr/local/lib/python3.10/dist-packages (from requests<3,>=2.0.0->wandb) (3.10)\n",
            "Requirement already satisfied: urllib3<3,>=1.21.1 in /usr/local/lib/python3.10/dist-packages (from requests<3,>=2.0.0->wandb) (2.2.3)\n",
            "Requirement already satisfied: certifi>=2017.4.17 in /usr/local/lib/python3.10/dist-packages (from requests<3,>=2.0.0->wandb) (2024.8.30)\n",
            "Requirement already satisfied: smmap<6,>=3.0.1 in /usr/local/lib/python3.10/dist-packages (from gitdb<5,>=4.0.1->gitpython!=3.1.29,>=1.0.0->wandb) (5.0.1)\n"
          ]
        }
      ],
      "source": [
        "!pip install wandb"
      ]
    },
    {
      "cell_type": "code",
      "source": [
        "import wandb\n",
        "wandb.login()"
      ],
      "metadata": {
        "colab": {
          "base_uri": "https://localhost:8080/",
          "height": 139
        },
        "id": "wdkN3ZwJfcDs",
        "outputId": "bdf13530-7bd8-4471-a9cd-6ac5e6907f17"
      },
      "execution_count": null,
      "outputs": [
        {
          "output_type": "stream",
          "name": "stderr",
          "text": [
            "\u001b[34m\u001b[1mwandb\u001b[0m: Using wandb-core as the SDK backend.  Please refer to https://wandb.me/wandb-core for more information.\n"
          ]
        },
        {
          "output_type": "display_data",
          "data": {
            "text/plain": [
              "<IPython.core.display.Javascript object>"
            ],
            "application/javascript": [
              "\n",
              "        window._wandbApiKey = new Promise((resolve, reject) => {\n",
              "            function loadScript(url) {\n",
              "            return new Promise(function(resolve, reject) {\n",
              "                let newScript = document.createElement(\"script\");\n",
              "                newScript.onerror = reject;\n",
              "                newScript.onload = resolve;\n",
              "                document.body.appendChild(newScript);\n",
              "                newScript.src = url;\n",
              "            });\n",
              "            }\n",
              "            loadScript(\"https://cdn.jsdelivr.net/npm/postmate/build/postmate.min.js\").then(() => {\n",
              "            const iframe = document.createElement('iframe')\n",
              "            iframe.style.cssText = \"width:0;height:0;border:none\"\n",
              "            document.body.appendChild(iframe)\n",
              "            const handshake = new Postmate({\n",
              "                container: iframe,\n",
              "                url: 'https://wandb.ai/authorize'\n",
              "            });\n",
              "            const timeout = setTimeout(() => reject(\"Couldn't auto authenticate\"), 5000)\n",
              "            handshake.then(function(child) {\n",
              "                child.on('authorize', data => {\n",
              "                    clearTimeout(timeout)\n",
              "                    resolve(data)\n",
              "                });\n",
              "            });\n",
              "            })\n",
              "        });\n",
              "    "
            ]
          },
          "metadata": {}
        },
        {
          "output_type": "stream",
          "name": "stderr",
          "text": [
            "\u001b[34m\u001b[1mwandb\u001b[0m: Logging into wandb.ai. (Learn how to deploy a W&B server locally: https://wandb.me/wandb-server)\n",
            "\u001b[34m\u001b[1mwandb\u001b[0m: You can find your API key in your browser here: https://wandb.ai/authorize\n",
            "wandb: Paste an API key from your profile and hit enter, or press ctrl+c to quit:"
          ]
        },
        {
          "name": "stdout",
          "output_type": "stream",
          "text": [
            " ··········\n"
          ]
        },
        {
          "output_type": "stream",
          "name": "stderr",
          "text": [
            "\u001b[34m\u001b[1mwandb\u001b[0m: Appending key for api.wandb.ai to your netrc file: /root/.netrc\n"
          ]
        },
        {
          "output_type": "execute_result",
          "data": {
            "text/plain": [
              "True"
            ]
          },
          "metadata": {},
          "execution_count": 2
        }
      ]
    },
    {
      "cell_type": "code",
      "source": [
        "wandb.init(\n",
        "    project=\"hw1\",\n",
        "    config={\"batch_size\": 32, \"epochs\": 10, \"learning_rate\": 0.01},\n",
        ")\n",
        "\n",
        "\n",
        "config = wandb.config"
      ],
      "metadata": {
        "colab": {
          "base_uri": "https://localhost:8080/",
          "height": 348
        },
        "id": "uP_0jLSpiq-C",
        "outputId": "66275557-e317-44f2-9d9b-7cff7cfab8fe"
      },
      "execution_count": null,
      "outputs": [
        {
          "output_type": "display_data",
          "data": {
            "text/plain": [
              "<IPython.core.display.HTML object>"
            ],
            "text/html": [
              "Finishing last run (ID:18ilq352) before initializing another..."
            ]
          },
          "metadata": {}
        },
        {
          "output_type": "display_data",
          "data": {
            "text/plain": [
              "<IPython.core.display.HTML object>"
            ],
            "text/html": [
              "\n",
              "    <style>\n",
              "        .wandb-row {\n",
              "            display: flex;\n",
              "            flex-direction: row;\n",
              "            flex-wrap: wrap;\n",
              "            justify-content: flex-start;\n",
              "            width: 100%;\n",
              "        }\n",
              "        .wandb-col {\n",
              "            display: flex;\n",
              "            flex-direction: column;\n",
              "            flex-basis: 100%;\n",
              "            flex: 1;\n",
              "            padding: 10px;\n",
              "        }\n",
              "    </style>\n",
              "<div class=\"wandb-row\"><div class=\"wandb-col\"><h3>Run history:</h3><br/><table class=\"wandb\"><tr><td>train_loss</td><td>█▅▄▄▃▃▂▂▁▁</td></tr><tr><td>val_loss</td><td>█▄▃▂▂▂▁▁▂▂</td></tr></table><br/></div><div class=\"wandb-col\"><h3>Run summary:</h3><br/><table class=\"wandb\"><tr><td>train_loss</td><td>0.35139</td></tr><tr><td>val_loss</td><td>0.82674</td></tr></table><br/></div></div>"
            ]
          },
          "metadata": {}
        },
        {
          "output_type": "display_data",
          "data": {
            "text/plain": [
              "<IPython.core.display.HTML object>"
            ],
            "text/html": [
              " View run <strong style=\"color:#cdcd00\">graceful-waterfall-29</strong> at: <a href='https://wandb.ai/andreyprivalov1337-itmo-university/hw1/runs/18ilq352' target=\"_blank\">https://wandb.ai/andreyprivalov1337-itmo-university/hw1/runs/18ilq352</a><br/> View project at: <a href='https://wandb.ai/andreyprivalov1337-itmo-university/hw1' target=\"_blank\">https://wandb.ai/andreyprivalov1337-itmo-university/hw1</a><br/>Synced 5 W&B file(s), 0 media file(s), 0 artifact file(s) and 0 other file(s)"
            ]
          },
          "metadata": {}
        },
        {
          "output_type": "display_data",
          "data": {
            "text/plain": [
              "<IPython.core.display.HTML object>"
            ],
            "text/html": [
              "Find logs at: <code>./wandb/run-20241214_140501-18ilq352/logs</code>"
            ]
          },
          "metadata": {}
        },
        {
          "output_type": "display_data",
          "data": {
            "text/plain": [
              "<IPython.core.display.HTML object>"
            ],
            "text/html": [
              "Successfully finished last run (ID:18ilq352). Initializing new run:<br/>"
            ]
          },
          "metadata": {}
        },
        {
          "output_type": "display_data",
          "data": {
            "text/plain": [
              "<IPython.core.display.HTML object>"
            ],
            "text/html": [
              "Tracking run with wandb version 0.18.7"
            ]
          },
          "metadata": {}
        },
        {
          "output_type": "display_data",
          "data": {
            "text/plain": [
              "<IPython.core.display.HTML object>"
            ],
            "text/html": [
              "Run data is saved locally in <code>/content/wandb/run-20241214_141820-rx1f03pk</code>"
            ]
          },
          "metadata": {}
        },
        {
          "output_type": "display_data",
          "data": {
            "text/plain": [
              "<IPython.core.display.HTML object>"
            ],
            "text/html": [
              "Syncing run <strong><a href='https://wandb.ai/andreyprivalov1337-itmo-university/hw1/runs/rx1f03pk' target=\"_blank\">rural-glitter-30</a></strong> to <a href='https://wandb.ai/andreyprivalov1337-itmo-university/hw1' target=\"_blank\">Weights & Biases</a> (<a href='https://wandb.me/developer-guide' target=\"_blank\">docs</a>)<br/>"
            ]
          },
          "metadata": {}
        },
        {
          "output_type": "display_data",
          "data": {
            "text/plain": [
              "<IPython.core.display.HTML object>"
            ],
            "text/html": [
              " View project at <a href='https://wandb.ai/andreyprivalov1337-itmo-university/hw1' target=\"_blank\">https://wandb.ai/andreyprivalov1337-itmo-university/hw1</a>"
            ]
          },
          "metadata": {}
        },
        {
          "output_type": "display_data",
          "data": {
            "text/plain": [
              "<IPython.core.display.HTML object>"
            ],
            "text/html": [
              " View run at <a href='https://wandb.ai/andreyprivalov1337-itmo-university/hw1/runs/rx1f03pk' target=\"_blank\">https://wandb.ai/andreyprivalov1337-itmo-university/hw1/runs/rx1f03pk</a>"
            ]
          },
          "metadata": {}
        }
      ]
    },
    {
      "cell_type": "code",
      "source": [
        "config"
      ],
      "metadata": {
        "id": "IloPqyafjPGG",
        "colab": {
          "base_uri": "https://localhost:8080/"
        },
        "outputId": "e96857fd-1499-4625-8482-c3869bb3a9a6"
      },
      "execution_count": null,
      "outputs": [
        {
          "output_type": "execute_result",
          "data": {
            "text/plain": [
              "{'batch_size': 32, 'epochs': 10, 'learning_rate': 0.01}"
            ]
          },
          "metadata": {},
          "execution_count": 39
        }
      ]
    },
    {
      "cell_type": "markdown",
      "source": [
        "# Домашняя работа №1"
      ],
      "metadata": {
        "id": "knKqVgfdgD_L"
      }
    },
    {
      "cell_type": "markdown",
      "source": [
        "Датасет: CIFAR-10\n",
        "\n",
        "CIFAR-10 — это популярный набор данных, который содержит 60,000 изображений размером 32x32 пикселей, разделенных на 10 классов. Каждый класс включает 6,000 изображений. Изображения в датасете имеют 3 канала (RGB), и все они принадлежат к 10 категориям:\n",
        "\n",
        "1. airplane — самолеты <br>\n",
        "2. automobile — автомобили <br>\n",
        "3. bird — птицы <br>\n",
        "4. cat — кошки <br>\n",
        "5. deer — олени <br>\n",
        "6. dog — собаки <br>\n",
        "7. frog — лягушки <br>\n",
        "8. horse — лошади <br>\n",
        "9. ship — корабли <br>\n",
        "10. truck — грузовики <br>"
      ],
      "metadata": {
        "id": "wT1Mhl0wgHP0"
      }
    },
    {
      "cell_type": "markdown",
      "source": [
        "Модель: ResNet-18\n",
        "\n",
        "ResNet (Residual Network) — это архитектура нейронной сети, которая использует остаточные блоки (residual blocks), чтобы облегчить обучение глубоких сетей, предотвращая проблему затухающего градиента. Архитектура была представлена в 2015 году в статье \"Deep Residual Learning for Image Recognition\" (Kaiming He и др.).\n",
        "\n",
        "В ResNet используются короткие соединения (skip connections), которые помогают градиентам \"перепрыгивать\" через несколько слоев, что значительно ускоряет обучение и улучшает точность.\n",
        "\n",
        "В данном примере для CIFAR-10 можно использовать ResNet-18, так как она достаточно легкая и эффективная для этой задачи."
      ],
      "metadata": {
        "id": "5DadP6CahJBF"
      }
    },
    {
      "cell_type": "code",
      "source": [
        "import torch\n",
        "import torch.nn as nn\n",
        "import torch.optim as optim\n",
        "import torchvision\n",
        "import torchvision.transforms as transforms\n",
        "import matplotlib.pyplot as plt\n",
        "from sklearn.metrics import precision_recall_fscore_support\n",
        "import wandb\n",
        "from torchvision import datasets, models\n",
        "import numpy as np\n",
        "\n",
        "\n",
        "class_names = [\n",
        "    \"airplane\",\n",
        "    \"automobile\",\n",
        "    \"bird\",\n",
        "    \"cat\",\n",
        "    \"deer\",\n",
        "    \"dog\",\n",
        "    \"frog\",\n",
        "    \"horse\",\n",
        "    \"ship\",\n",
        "    \"truck\",\n",
        "]\n",
        "\n",
        "transform = transforms.Compose(\n",
        "    [\n",
        "        transforms.ToTensor(),\n",
        "        transforms.Normalize(mean=[0.485, 0.456, 0.406], std=[0.229, 0.224, 0.225]),\n",
        "    ]\n",
        ")\n",
        "\n",
        "trainset = datasets.CIFAR10(\n",
        "    root=\"./data\", train=True, download=True, transform=transform\n",
        ")\n",
        "testset = datasets.CIFAR10(\n",
        "    root=\"./data\", train=False, download=True, transform=transform\n",
        ")\n",
        "\n",
        "trainloader = torch.utils.data.DataLoader(\n",
        "    trainset, batch_size=config.batch_size, shuffle=True\n",
        ")\n",
        "testloader = torch.utils.data.DataLoader(\n",
        "    testset, batch_size=config.batch_size, shuffle=False\n",
        ")\n",
        "\n",
        "model = models.resnet18(weights=None)\n",
        "model.fc = nn.Linear(model.fc.in_features, 10)\n",
        "model = model.cuda()\n",
        "\n",
        "criterion = nn.CrossEntropyLoss()\n",
        "optimizer = optim.Adam(model.parameters(), lr=config.learning_rate)"
      ],
      "metadata": {
        "id": "hMjQGa1L-kfH",
        "colab": {
          "base_uri": "https://localhost:8080/"
        },
        "outputId": "dc987cbb-4c91-41fd-d555-64bd8021ec0e"
      },
      "execution_count": null,
      "outputs": [
        {
          "output_type": "stream",
          "name": "stdout",
          "text": [
            "Files already downloaded and verified\n",
            "Files already downloaded and verified\n"
          ]
        }
      ]
    },
    {
      "cell_type": "code",
      "source": [
        "# Функция для оценки модели\n",
        "@torch.no_grad()\n",
        "def evaluate(model, dataloader):\n",
        "    model.eval()\n",
        "    val_loss = 0\n",
        "    all_labels = []\n",
        "    all_preds = []\n",
        "    for images, labels in dataloader:\n",
        "        images, labels = images.cuda(), labels.cuda()\n",
        "        outputs = model(images)\n",
        "        loss = criterion(outputs, labels)\n",
        "        val_loss += loss.item()\n",
        "        all_labels.extend(labels.cpu().numpy())\n",
        "        all_preds.extend(outputs.argmax(dim=1).cpu().numpy())\n",
        "    val_loss /= len(dataloader)\n",
        "    return val_loss, all_labels, all_preds\n",
        "\n",
        "\n",
        "# Тренировка модели\n",
        "for epoch in range(config.epochs):\n",
        "    model.train()\n",
        "    running_loss = 0.0\n",
        "    for images, labels in trainloader:\n",
        "        images, labels = images.cuda(), labels.cuda()\n",
        "\n",
        "        optimizer.zero_grad()\n",
        "        outputs = model(images)\n",
        "        loss = criterion(outputs, labels)\n",
        "        loss.backward()\n",
        "        optimizer.step()\n",
        "\n",
        "        running_loss += loss.item()\n",
        "\n",
        "    train_loss = running_loss / len(trainloader)\n",
        "\n",
        "    # Оценка на валидационном наборе\n",
        "    val_loss, all_labels, all_preds = evaluate(model, testloader)\n",
        "\n",
        "    # Расчет метрик\n",
        "    precision, recall, f1, _ = precision_recall_fscore_support(\n",
        "        all_labels, all_preds, average=None, labels=range(10)\n",
        "    )\n",
        "    overall_precision, overall_recall, overall_f1, _ = precision_recall_fscore_support(\n",
        "        all_labels, all_preds, average=\"weighted\"\n",
        "    )\n",
        "\n",
        "    # Логирование метрик в wandb\n",
        "    metrics = {\n",
        "        \"epoch\": epoch + 1,\n",
        "        \"train_loss\": train_loss,\n",
        "        \"val_loss\": val_loss,\n",
        "        \"overall_precision\": overall_precision,\n",
        "        \"overall_recall\": overall_recall,\n",
        "        \"overall_f1\": overall_f1,\n",
        "    }\n",
        "\n",
        "    # Логируем метрики для каждого класса отдельно\n",
        "    for i, class_name in enumerate(class_names):\n",
        "        metrics[f\"precision_{class_name}\"] = precision[i]\n",
        "        metrics[f\"recall_{class_name}\"] = recall[i]\n",
        "        metrics[f\"f1_{class_name}\"] = f1[i]\n",
        "\n",
        "    wandb.log(metrics)\n",
        "\n",
        "    print(\n",
        "        f\"Epoch [{epoch + 1}/{config.epochs}], Train Loss: {train_loss:.4f}, Val Loss: {val_loss:.4f}\"\n",
        "    )"
      ],
      "metadata": {
        "id": "X6doibANBuCg",
        "colab": {
          "base_uri": "https://localhost:8080/"
        },
        "outputId": "d1d82026-e589-416b-8c04-1380cee651d4"
      },
      "execution_count": null,
      "outputs": [
        {
          "output_type": "stream",
          "name": "stdout",
          "text": [
            "Epoch [1/10], Train Loss: 1.7218, Val Loss: 1.3398\n",
            "Epoch [2/10], Train Loss: 1.2053, Val Loss: 1.0671\n",
            "Epoch [3/10], Train Loss: 0.9766, Val Loss: 0.9212\n",
            "Epoch [4/10], Train Loss: 0.8315, Val Loss: 0.8800\n",
            "Epoch [5/10], Train Loss: 0.7163, Val Loss: 0.7753\n",
            "Epoch [6/10], Train Loss: 0.6202, Val Loss: 0.8399\n",
            "Epoch [7/10], Train Loss: 0.5317, Val Loss: 0.9084\n",
            "Epoch [8/10], Train Loss: 0.4480, Val Loss: 0.7783\n",
            "Epoch [9/10], Train Loss: 0.3729, Val Loss: 0.8032\n",
            "Epoch [10/10], Train Loss: 0.3080, Val Loss: 0.8619\n"
          ]
        }
      ]
    },
    {
      "cell_type": "code",
      "source": [
        "# Функция для оценки модели\n",
        "@torch.no_grad()\n",
        "def evaluate(model, dataloader):\n",
        "    model.eval()\n",
        "    val_loss = 0\n",
        "    all_labels = []\n",
        "    all_preds = []\n",
        "    for images, labels in dataloader:\n",
        "        images, labels = images.cuda(), labels.cuda()\n",
        "        outputs = model(images)\n",
        "        loss = criterion(outputs, labels)\n",
        "        val_loss += loss.item()\n",
        "        all_labels.extend(labels.cpu().numpy())\n",
        "        all_preds.extend(outputs.argmax(dim=1).cpu().numpy())\n",
        "\n",
        "    # Средняя потеря\n",
        "    val_loss /= len(dataloader)\n",
        "\n",
        "    # Расчет метрик для каждого класса (точность, полнота, F1)\n",
        "    precision, recall, f1, _ = precision_recall_fscore_support(\n",
        "        all_labels, all_preds, average=None, labels=range(10)\n",
        "    )\n",
        "\n",
        "    return val_loss, precision, recall, f1\n",
        "\n",
        "\n",
        "# После завершения обучения, например, после всех эпох:\n",
        "model.eval()  # Переводим модель в режим оценки (выключает Dropout, BatchNorm)\n",
        "val_loss, precision, recall, f1 = evaluate(model, testloader)\n",
        "\n",
        "# Выводим метрики для каждого класса\n",
        "print(\"Metrics for each class:\")\n",
        "for i, class_name in enumerate(class_names):\n",
        "    print(\n",
        "        f\"{class_name} - Precision: {precision[i]:.4f}, Recall: {recall[i]:.4f}, F1: {f1[i]:.4f}\"\n",
        "    )"
      ],
      "metadata": {
        "colab": {
          "base_uri": "https://localhost:8080/"
        },
        "id": "FAXGEoIis0S4",
        "outputId": "6c034eb7-9b68-4af9-b907-fc4ae1f9ee43"
      },
      "execution_count": null,
      "outputs": [
        {
          "output_type": "stream",
          "name": "stdout",
          "text": [
            "Metrics for each class:\n",
            "airplane - Precision: 0.7797, Recall: 0.8210, F1: 0.7998\n",
            "automobile - Precision: 0.8543, Recall: 0.8500, F1: 0.8521\n",
            "bird - Precision: 0.7431, Recall: 0.6420, F1: 0.6888\n",
            "cat - Precision: 0.5668, Recall: 0.4410, F1: 0.4961\n",
            "deer - Precision: 0.8076, Recall: 0.6340, F1: 0.7104\n",
            "dog - Precision: 0.5406, Recall: 0.7530, F1: 0.6293\n",
            "frog - Precision: 0.7873, Recall: 0.8290, F1: 0.8076\n",
            "horse - Precision: 0.7658, Recall: 0.8370, F1: 0.7998\n",
            "ship - Precision: 0.8394, Recall: 0.8780, F1: 0.8583\n",
            "truck - Precision: 0.8330, Recall: 0.7830, F1: 0.8072\n"
          ]
        }
      ]
    },
    {
      "cell_type": "code",
      "source": [
        "@torch.no_grad()\n",
        "def visualize_predictions(model, dataloader, num_images=10):\n",
        "    model.eval()\n",
        "    images_shown = 0\n",
        "    plt.figure(figsize=(15, 15))\n",
        "\n",
        "    for images, labels in dataloader:\n",
        "        images, labels = images.cuda(), labels.cuda()\n",
        "        outputs = model(images)\n",
        "        preds = outputs.argmax(dim=1)\n",
        "\n",
        "        for i in range(images.size(0)):\n",
        "            if images_shown >= num_images:\n",
        "                break\n",
        "\n",
        "            image = images[i].cpu().numpy().transpose((1, 2, 0))\n",
        "            image = np.clip(\n",
        "                image * np.array([0.229, 0.224, 0.225])\n",
        "                + np.array([0.485, 0.456, 0.406]),\n",
        "                0,\n",
        "                1,\n",
        "            )\n",
        "            label = class_names[labels[i].item()]\n",
        "            pred = class_names[preds[i].item()]\n",
        "\n",
        "            plt.subplot(num_images // 5 + 1, 5, images_shown + 1)\n",
        "            plt.imshow(image)\n",
        "            plt.title(f\"True: {label}\\nPred: {pred}\")\n",
        "            plt.axis(\"off\")\n",
        "            images_shown += 1\n",
        "\n",
        "        if images_shown >= num_images:\n",
        "            break\n",
        "\n",
        "    plt.tight_layout()\n",
        "    plt.show()\n",
        "\n",
        "\n",
        "visualize_predictions(model, testloader, num_images=10)"
      ],
      "metadata": {
        "colab": {
          "base_uri": "https://localhost:8080/",
          "height": 833
        },
        "id": "AF9SjIaVpo1l",
        "outputId": "88e87204-e36d-45b7-9865-12d844062c79"
      },
      "execution_count": null,
      "outputs": [
        {
          "output_type": "display_data",
          "data": {
            "text/plain": [
              "<Figure size 1500x1500 with 10 Axes>"
            ],
            "image/png": "[encoded data removed]"
          },
          "metadata": {}
        }
      ]
    }
  ]
}